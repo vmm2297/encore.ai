{
 "cells": [
  {
   "cell_type": "markdown",
   "metadata": {},
   "source": [
    "# Output Cleaning"
   ]
  },
  {
   "cell_type": "markdown",
   "metadata": {},
   "source": [
    "## 1. Initializa Libraries and Variables"
   ]
  },
  {
   "cell_type": "code",
   "execution_count": 1,
   "metadata": {},
   "outputs": [],
   "source": [
    "from pathlib import Path\n",
    "dirty_path = 'dirty/'\n",
    "n = len(dirty_path)"
   ]
  },
  {
   "cell_type": "markdown",
   "metadata": {},
   "source": [
    "## 2. Define Lyric Cleaning Function"
   ]
  },
  {
   "cell_type": "code",
   "execution_count": 2,
   "metadata": {},
   "outputs": [],
   "source": [
    "def clean_lyrics(lyrics):\n",
    "    lyrics = lyrics.replace(', ',',\\n')\n",
    "    lyrics = lyrics.replace('. ','.\\n')\n",
    "    lyrics = lyrics.replace('! ','!\\n')\n",
    "    lyrics = lyrics.replace('? ','?\\n')\n",
    "    lyrics = lyrics.replace(') ',')\\n')\n",
    "    lyrics = lyrics.replace('] ',']\\n')\n",
    "    return lyrics"
   ]
  },
  {
   "cell_type": "markdown",
   "metadata": {},
   "source": [
    "## 3. Iterate Through 'Dirty' Lyrics"
   ]
  },
  {
   "cell_type": "code",
   "execution_count": 3,
   "metadata": {
    "scrolled": true
   },
   "outputs": [],
   "source": [
    "pathlist = Path(dirty_path).glob('**/*.txt')\n",
    "for path in pathlist:\n",
    "    f = open(path,'r')\n",
    "    old_lyrics = f.read()\n",
    "    new_lyrics = clean_lyrics(old_lyrics)\n",
    "    g = open(\"./clean/\" + str(path)[n:],\"w+\")\n",
    "    g.write(new_lyrics)\n",
    "    g.close()\n",
    "    f.close()"
   ]
  }
 ],
 "metadata": {
  "kernelspec": {
   "display_name": "Python 3",
   "language": "python",
   "name": "python3"
  },
  "language_info": {
   "codemirror_mode": {
    "name": "ipython",
    "version": 3
   },
   "file_extension": ".py",
   "mimetype": "text/x-python",
   "name": "python",
   "nbconvert_exporter": "python",
   "pygments_lexer": "ipython3",
   "version": "3.6.8"
  }
 },
 "nbformat": 4,
 "nbformat_minor": 2
}
